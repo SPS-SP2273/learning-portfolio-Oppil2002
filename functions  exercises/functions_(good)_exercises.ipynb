{
 "cells": [
  {
   "attachments": {},
   "cell_type": "markdown",
   "id": "123456",
   "metadata": {},
   "source": [
    "<div style=\"text-align:left;font-size:2em\"><span style=\"font-weight:bolder;font-size:1.25em\">SP2273 | Learning Portfolio</span><br><br><span style=\"font-weight:bold;color:darkred\">Functions (Good) Exercises</span></div>"
   ]
  },
  {
   "cell_type": "markdown",
   "id": "0ddddf18-f757-476d-80c0-fdacb43ad013",
   "metadata": {},
   "source": [
    "# Exercise 1 (Celsius to Fahrenheit or Kelvin)"
   ]
  },
  {
   "cell_type": "code",
   "execution_count": 6,
   "id": "883210db-0421-4aa4-b02e-d32be5b6acbe",
   "metadata": {},
   "outputs": [],
   "source": [
    "def convert_celsius(temp_celsius, target_scale='Fahrenheit'):\n",
    "    if target_scale == 'Kelvin':\n",
    "        return temp_celsius + 273.15\n",
    "    elif target_scale == 'Fahrenheit':\n",
    "        return temp_celsius * 9/5 + 32"
   ]
  },
  {
   "cell_type": "code",
   "execution_count": 7,
   "id": "2b0dd5f1-4836-49b5-9fda-a8b91ae78e42",
   "metadata": {},
   "outputs": [
    {
     "data": {
      "text/plain": [
       "323.15"
      ]
     },
     "execution_count": 7,
     "metadata": {},
     "output_type": "execute_result"
    }
   ],
   "source": [
    "convert_celsius(50, 'Kelvin')"
   ]
  },
  {
   "cell_type": "code",
   "execution_count": 8,
   "id": "7db6118a-9c91-48cb-922e-177dc0feeba0",
   "metadata": {},
   "outputs": [
    {
     "data": {
      "text/plain": [
       "932.0"
      ]
     },
     "execution_count": 8,
     "metadata": {},
     "output_type": "execute_result"
    }
   ],
   "source": [
    "convert_celsius(500)"
   ]
  },
  {
   "cell_type": "markdown",
   "id": "bb6dc8c8-b49a-4236-a2ea-492b9196d936",
   "metadata": {},
   "source": [
    "# Exercise 2 (Fahrenheit to Celsius or Kelvin)"
   ]
  },
  {
   "cell_type": "code",
   "execution_count": 9,
   "id": "f6cc9073-8f7b-4f37-a73f-ebdb2703c3d9",
   "metadata": {},
   "outputs": [],
   "source": [
    "def convert_F(temp_F, target_scale='Celsius'):\n",
    "    temp_C = (temp_F - 32)/(9/5)\n",
    "    if target_scale == 'Celsius':\n",
    "        return temp_C\n",
    "    elif target_scale == 'Kelvin':\n",
    "        return temp_C + 273.15"
   ]
  },
  {
   "cell_type": "code",
   "execution_count": 10,
   "id": "82bbadfd-88d3-42c4-9eb1-4e1b1a3412ed",
   "metadata": {},
   "outputs": [
    {
     "data": {
      "text/plain": [
       "310.92777777777775"
      ]
     },
     "execution_count": 10,
     "metadata": {},
     "output_type": "execute_result"
    }
   ],
   "source": [
    "convert_F(100,'Kelvin')"
   ]
  },
  {
   "cell_type": "code",
   "execution_count": 11,
   "id": "a561378d-32a9-4c85-b8e8-4c6c17fb6540",
   "metadata": {},
   "outputs": [
    {
     "data": {
      "text/plain": [
       "95.0"
      ]
     },
     "execution_count": 11,
     "metadata": {},
     "output_type": "execute_result"
    }
   ],
   "source": [
    "convert_F(203)"
   ]
  },
  {
   "cell_type": "code",
   "execution_count": 12,
   "id": "044d0006-c202-4262-9eb3-9c1f048380e0",
   "metadata": {},
   "outputs": [],
   "source": [
    "def convert_F(temp_F, target_scale='Celsius'):\n",
    "    temp_C = (temp_F - 32)/(9/5)\n",
    "    if target_scale == 'Celsius':\n",
    "        return temp_C\n",
    "    elif target_scale == 'Kelvin':\n",
    "        return temp_C + 273.15"
   ]
  },
  {
   "cell_type": "code",
   "execution_count": 13,
   "id": "be1a390d-c4cf-468e-9180-204945bf6c39",
   "metadata": {},
   "outputs": [
    {
     "data": {
      "text/plain": [
       "310.92777777777775"
      ]
     },
     "execution_count": 13,
     "metadata": {},
     "output_type": "execute_result"
    }
   ],
   "source": [
    "convert_F(100,'Kelvin')"
   ]
  },
  {
   "cell_type": "markdown",
   "id": "3e914fec-f414-4319-92f3-79637f2dab02",
   "metadata": {},
   "source": [
    "# Exercise 3 (General Temperature Conversion)"
   ]
  },
  {
   "cell_type": "code",
   "execution_count": 14,
   "id": "ddb25908-6f80-406d-bc1e-e13a3edcda01",
   "metadata": {},
   "outputs": [],
   "source": [
    "def convert_K(temp_K, target_scale='Celsius'):\n",
    "    temp_C1 = temp_K - 273.15\n",
    "    if target_scale == 'Celsius':\n",
    "        return temp_C1\n",
    "    elif target_scale == 'Fahrenheit':\n",
    "        return convert_celsius(temp_C1,'Fahrenheit')\n",
    "\n",
    "def convert_temperature(temperature, source_scale, target_scale='Kelvin'):\n",
    "    if target_scale == 'Kelvin' :\n",
    "        if source_scale == 'Celsius' :\n",
    "            return convert_celsius(temperature, 'Kelvin')\n",
    "        elif source_scale == 'Fahrenheit' :\n",
    "            return convert_F(temperature, 'Kelvin')\n",
    "    elif target_scale == 'Celsius' :\n",
    "        if source_scale == 'Kelvin' :\n",
    "            return convert_K(temperature, 'Celsius')\n",
    "        elif source_scale == 'Fahrenheit' :\n",
    "            return convert_F(temperature, 'Celsius')\n",
    "    elif target_scale == 'Fahrenheit':\n",
    "        if source_scale == 'Celsius' :\n",
    "            return convert_celsius(temperature, 'Fahrenheit')\n",
    "        elif source_scale == 'Kelvin' :\n",
    "            return convert_K(temperature, 'Fahrenheit')"
   ]
  },
  {
   "cell_type": "code",
   "execution_count": 15,
   "id": "42567e18-e92c-4aab-a77f-f9791c6192ba",
   "metadata": {},
   "outputs": [
    {
     "data": {
      "text/plain": [
       "323.15"
      ]
     },
     "execution_count": 15,
     "metadata": {},
     "output_type": "execute_result"
    }
   ],
   "source": [
    "convert_temperature(50, 'Celsius','Kelvin')"
   ]
  },
  {
   "cell_type": "code",
   "execution_count": 16,
   "id": "6e892b09-5321-4351-82cb-01e2ccb55c42",
   "metadata": {},
   "outputs": [
    {
     "data": {
      "text/plain": [
       "-369.66999999999996"
      ]
     },
     "execution_count": 16,
     "metadata": {},
     "output_type": "execute_result"
    }
   ],
   "source": [
    "convert_temperature(50, 'Kelvin','Fahrenheit')"
   ]
  },
  {
   "cell_type": "code",
   "execution_count": 17,
   "id": "d595056a-92d8-411a-bfea-0b821275b903",
   "metadata": {},
   "outputs": [],
   "source": [
    "def convert_temperature_1(temperature, source_scale, target_scale='Kelvin'):\n",
    "    if source_scale == 'Celsius':\n",
    "        result = convert_celsius(temperature, target_scale)\n",
    "    elif source_scale == 'Fahrenheit':\n",
    "        result = convert_F(temperature, target_scale)\n",
    "    elif source_scale == 'Kelvin':\n",
    "        result = convert_K(temperature, target_scale)\n",
    "    \n",
    "    if target_scale == 'Kelvin':\n",
    "        return f\"{result:.2f} K\"\n",
    "    elif target_scale == 'Celsius':\n",
    "        return f\"{result:.2f} °C\"\n",
    "    elif target_scale == 'Fahrenheit':\n",
    "        return f\"{result:.2f} °F\""
   ]
  },
  {
   "cell_type": "code",
   "execution_count": 18,
   "id": "103bef82-f2f6-4721-85d2-1a9abd17901f",
   "metadata": {},
   "outputs": [
    {
     "data": {
      "text/plain": [
       "'-369.67 °F'"
      ]
     },
     "execution_count": 18,
     "metadata": {},
     "output_type": "execute_result"
    }
   ],
   "source": [
    "convert_temperature_1(50, 'Kelvin','Fahrenheit')"
   ]
  },
  {
   "cell_type": "code",
   "execution_count": 24,
   "id": "88210feb-8c91-4c6a-9dd7-6b2f0e713160",
   "metadata": {},
   "outputs": [],
   "source": [
    "#Just for fun lol\n",
    "\n",
    "def user_input():\n",
    "    temperature = float(input(\"Enter the temperature to convert: \"))\n",
    "    source_scale = input(\"From what scale? (Celsius, Fahrenheit, Kelvin): \")\n",
    "    while source_scale not in ['Celsius', 'Fahrenheit', 'Kelvin']:\n",
    "        print(\"Invalid. Please enter Celsius, Fahrenheit, or Kelvin.\")\n",
    "        source_scale = input(\"Enter the source scale (Celsius, Fahrenheit, Kelvin): \")\n",
    "    target_scale = input(\"To what scale? (Celsius, Fahrenheit, Kelvin): \")\n",
    "    while target_scale not in ['Celsius', 'Fahrenheit', 'Kelvin']:\n",
    "        print(\"Invalid target scale. Please enter Celsius, Fahrenheit, or Kelvin.\")\n",
    "        target_scale = input(\"Enter the target scale (Celsius, Fahrenheit, Kelvin): \")\n",
    "    result = convert_temperature(temperature, source_scale, target_scale)\n",
    "    print(f\"{temperature} {source_scale} is {result} in {target_scale}.\")"
   ]
  },
  {
   "cell_type": "code",
   "execution_count": 25,
   "id": "6ddce58e-8b8e-493e-9f34-343246f1d418",
   "metadata": {},
   "outputs": [
    {
     "name": "stdin",
     "output_type": "stream",
     "text": [
      "Enter the temperature to convert:  100\n",
      "From what scale? (Celsius, Fahrenheit, Kelvin):  Kelvin\n",
      "To what scale? (Celsius, Fahrenheit, Kelvin):  Fahrenheit\n"
     ]
    },
    {
     "name": "stdout",
     "output_type": "stream",
     "text": [
      "100.0 Kelvin is -279.66999999999996 in Fahrenheit.\n"
     ]
    }
   ],
   "source": [
    "user_input()"
   ]
  },
  {
   "cell_type": "code",
   "execution_count": 27,
   "id": "4fe45ac9-535c-4bcc-a723-1619bb86c79d",
   "metadata": {},
   "outputs": [
    {
     "name": "stdin",
     "output_type": "stream",
     "text": [
      "Enter the temperature to convert:  122\n",
      "From what scale? (Celsius, Fahrenheit, Kelvin):  Celsius\n",
      "To what scale? (Celsius, Fahrenheit, Kelvin):  LOL\n"
     ]
    },
    {
     "name": "stdout",
     "output_type": "stream",
     "text": [
      "Invalid target scale. Please enter Celsius, Fahrenheit, or Kelvin.\n"
     ]
    },
    {
     "name": "stdin",
     "output_type": "stream",
     "text": [
      "Enter the target scale (Celsius, Fahrenheit, Kelvin):  It works\n"
     ]
    },
    {
     "name": "stdout",
     "output_type": "stream",
     "text": [
      "Invalid target scale. Please enter Celsius, Fahrenheit, or Kelvin.\n"
     ]
    },
    {
     "name": "stdin",
     "output_type": "stream",
     "text": [
      "Enter the target scale (Celsius, Fahrenheit, Kelvin):  Kelvin\n"
     ]
    },
    {
     "name": "stdout",
     "output_type": "stream",
     "text": [
      "122.0 Celsius is 395.15 in Kelvin.\n"
     ]
    }
   ],
   "source": [
    "user_input()"
   ]
  }
 ],
 "metadata": {
  "kernelspec": {
   "display_name": "Python 3 (ipykernel)",
   "language": "python",
   "name": "python3"
  },
  "language_info": {
   "codemirror_mode": {
    "name": "ipython",
    "version": 3
   },
   "file_extension": ".py",
   "mimetype": "text/x-python",
   "name": "python",
   "nbconvert_exporter": "python",
   "pygments_lexer": "ipython3",
   "version": "3.11.5"
  },
  "toc": {
   "base_numbering": 1,
   "nav_menu": {},
   "number_sections": true,
   "sideBar": true,
   "skip_h1_title": false,
   "title_cell": "Table of Contents",
   "title_sidebar": "Contents",
   "toc_cell": false,
   "toc_position": {},
   "toc_section_display": true,
   "toc_window_display": false
  },
  "vscode": {
   "interpreter": {
    "hash": "31f2aee4e71d21fbe5cf8b01ff0e069b9275f58929596ceb00d14d90e3e16cd6"
   }
  }
 },
 "nbformat": 4,
 "nbformat_minor": 5
}
