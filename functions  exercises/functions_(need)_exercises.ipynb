{
 "cells": [
  {
   "attachments": {},
   "cell_type": "markdown",
   "id": "123456",
   "metadata": {},
   "source": [
    "<div style=\"text-align:left;font-size:2em\"><span style=\"font-weight:bolder;font-size:1.25em\">SP2273 | Learning Portfolio</span><br><br><span style=\"font-weight:bold;color:darkred\">Functions (Need) Exercises</span></div>"
   ]
  },
  {
   "cell_type": "markdown",
   "id": "da3df473-5718-498b-99ef-3cdfbd34a7d5",
   "metadata": {},
   "source": [
    "# Exercise 1 (Do you know why?)"
   ]
  },
  {
   "cell_type": "code",
   "execution_count": 1,
   "id": "b5cef377-ed20-4c8e-83f7-b6b3e26c4e82",
   "metadata": {},
   "outputs": [],
   "source": [
    "def greeting(name):\n",
    "    if name == 'Batman':\n",
    "        return 'Hello Batman! So, nice to meet you!'\n",
    "    return f'Hello {name}!'"
   ]
  },
  {
   "cell_type": "code",
   "execution_count": 3,
   "id": "782f4edc-1879-4d43-bd48-532f8fc56b9a",
   "metadata": {},
   "outputs": [
    {
     "data": {
      "text/plain": [
       "'Hello Batman! So, nice to meet you!'"
      ]
     },
     "execution_count": 3,
     "metadata": {},
     "output_type": "execute_result"
    }
   ],
   "source": [
    "greeting('Batman')"
   ]
  },
  {
   "cell_type": "code",
   "execution_count": 5,
   "id": "9fef4fca-6549-45a8-b9f4-b093a08dba82",
   "metadata": {},
   "outputs": [
    {
     "data": {
      "text/plain": [
       "'Hello test!'"
      ]
     },
     "execution_count": 5,
     "metadata": {},
     "output_type": "execute_result"
    }
   ],
   "source": [
    "greeting('test')"
   ]
  },
  {
   "cell_type": "markdown",
   "id": "da34ae69-6d68-4efb-8de1-6d6228b990c0",
   "metadata": {},
   "source": [
    "Why it works without an 'else' statement:\n",
    "\n",
    "Python reads a return keyword and exits the function with the value if the conditions are met. In the case where condition isn't met then the function skips the return command inside the 'if' block (the indented stuff). The function hence goes to the next line of code which is also a return statement and it will be in effect as an implicit 'else'."
   ]
  },
  {
   "cell_type": "markdown",
   "id": "ac06ebfe-8fa8-4026-ba7a-505b9c5ee498",
   "metadata": {},
   "source": [
    "# Exercise 2 (Chubby or not)"
   ]
  },
  {
   "cell_type": "code",
   "execution_count": 11,
   "id": "37132f67-3a0f-4bb7-90ab-2e28a0d92e9b",
   "metadata": {},
   "outputs": [],
   "source": [
    "def calculate_bmi(weight, height):\n",
    "    '''\n",
    "A function to calculate the BMI and weight category of a person.\n",
    "    '''\n",
    "    BMI = weight / (height ** 2)\n",
    "    if BMI < 18.5:\n",
    "        return 'Underweight! Eat more.'\n",
    "    elif (18.5 <= BMI <= 24.9):\n",
    "        return 'Normal weight! Good job.'\n",
    "    elif (25 <= BMI <= 29.9):\n",
    "        return 'Overweight! Consider eating healthier and increasing exercise.'\n",
    "    elif BMI >= 30:\n",
    "        return 'Obese! Build a healthy diet and start a fitness plan.'"
   ]
  },
  {
   "cell_type": "code",
   "execution_count": 9,
   "id": "0a0d68a3-54ff-478b-968a-208df8a8df88",
   "metadata": {},
   "outputs": [
    {
     "data": {
      "text/plain": [
       "'Normal weight! Good job.'"
      ]
     },
     "execution_count": 9,
     "metadata": {},
     "output_type": "execute_result"
    }
   ],
   "source": [
    "calculate_bmi(50,1.5)"
   ]
  },
  {
   "cell_type": "code",
   "execution_count": 12,
   "id": "dda73489-9f0c-4aa0-a791-76f920e6bc63",
   "metadata": {},
   "outputs": [
    {
     "name": "stdout",
     "output_type": "stream",
     "text": [
      "Help on function calculate_bmi in module __main__:\n",
      "\n",
      "calculate_bmi(weight, height)\n",
      "    A function to calculate the BMI and weight category of a person.\n",
      "\n"
     ]
    }
   ],
   "source": [
    "help(calculate_bmi)"
   ]
  }
 ],
 "metadata": {
  "kernelspec": {
   "display_name": "Python 3 (ipykernel)",
   "language": "python",
   "name": "python3"
  },
  "language_info": {
   "codemirror_mode": {
    "name": "ipython",
    "version": 3
   },
   "file_extension": ".py",
   "mimetype": "text/x-python",
   "name": "python",
   "nbconvert_exporter": "python",
   "pygments_lexer": "ipython3",
   "version": "3.11.5"
  },
  "toc": {
   "base_numbering": 1,
   "nav_menu": {},
   "number_sections": true,
   "sideBar": true,
   "skip_h1_title": false,
   "title_cell": "Table of Contents",
   "title_sidebar": "Contents",
   "toc_cell": false,
   "toc_position": {},
   "toc_section_display": true,
   "toc_window_display": false
  },
  "vscode": {
   "interpreter": {
    "hash": "31f2aee4e71d21fbe5cf8b01ff0e069b9275f58929596ceb00d14d90e3e16cd6"
   }
  }
 },
 "nbformat": 4,
 "nbformat_minor": 5
}
