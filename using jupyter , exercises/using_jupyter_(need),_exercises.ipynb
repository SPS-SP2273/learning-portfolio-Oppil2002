{
 "cells": [
  {
   "attachments": {},
   "cell_type": "markdown",
   "id": "123456",
   "metadata": {},
   "source": [
    "<div style=\"text-align:left;font-size:2em\"><span style=\"font-weight:bolder;font-size:1.25em\">SP2273 | Learning Portfolio</span><br><br><span style=\"font-weight:bold;color:darkred\">Using Jupyter (Need), Exercises</span></div>"
   ]
  },
  {
   "attachments": {},
   "cell_type": "markdown",
   "id": "368827e1",
   "metadata": {},
   "source": [
    "## Quadratic Equations"
   ]
  },
  {
   "attachments": {},
   "cell_type": "markdown",
   "id": "ff2d7e20",
   "metadata": {},
   "source": [
    "### Introduction"
   ]
  },
  {
   "cell_type": "markdown",
   "id": "dbf96555-652b-4bb3-9d7a-16006a68c709",
   "metadata": {},
   "source": [
    "![](https://upload.wikimedia.org/wikipedia/commons/thumb/f/f8/Polynomialdeg2.svg/600px-Polynomialdeg2.svg.png)"
   ]
  },
  {
   "cell_type": "markdown",
   "id": "c43b4a08-b49d-4588-a7d1-2d1be5089611",
   "metadata": {},
   "source": [
    "*(Image from the <ins>[Wikipedia page on Quadratic Equations](https://en.wikipedia.org/wiki/Quadratic_equation)</ins>)*"
   ]
  },
  {
   "cell_type": "markdown",
   "id": "75954e37-15d5-4a1d-b508-ced0048aab48",
   "metadata": {},
   "source": [
    "The general form of a quadratic equation is:"
   ]
  },
  {
   "cell_type": "markdown",
   "id": "7beac439-4174-4233-903a-3b3d2c53a3a6",
   "metadata": {},
   "source": [
    "$$\n",
    "ax^2 + bx + c = 0\n",
    "$$"
   ]
  },
  {
   "attachments": {},
   "cell_type": "markdown",
   "id": "68227c72",
   "metadata": {},
   "source": [
    "### Solutions"
   ]
  },
  {
   "cell_type": "markdown",
   "id": "f9971d4d-5963-49a8-98ee-ff44f64dc2e2",
   "metadata": {},
   "source": [
    "Provided $a=0$, we can use an elementary algebraic method called <ins>[completing the square](https://en.wikipedia.org/wiki/Completing_the_square)</ins> to show that a quadratic equation has the following solution:"
   ]
  },
  {
   "cell_type": "markdown",
   "id": "6a4f9d80-fc67-4ffb-beab-427102bc894a",
   "metadata": {},
   "source": [
    "$$\n",
    "x = \\dfrac{-b \\pm \\sqrt{b^2 - 4ac}}{2a}\n",
    "$$"
   ]
  },
  {
   "attachments": {},
   "cell_type": "markdown",
   "id": "e5fecf60",
   "metadata": {},
   "source": [
    "### Discriminant"
   ]
  },
  {
   "cell_type": "markdown",
   "id": "07017d07-58b5-4148-9e70-51941a24b39a",
   "metadata": {},
   "source": [
    "The quantity $\\Delta = b^2 - 4ac$ is called the **discriminant** of the equation and decides the nature of its solutions. The table below shows the various possibilities."
   ]
  },
  {
   "cell_type": "markdown",
   "id": "7c688b59-a7d7-44d7-bf98-8249b9bfef68",
   "metadata": {},
   "source": [
    "|   | Discriminant             | Roots                                  |   |   |\n",
    "|---|--------------------------|----------------------------------------|---|---|\n",
    "|   | $\\Delta = b^2 - 4ac = 0$ | A single solution of $\\frac{-b}{(2a)}$ |   |   |\n",
    "|   | $\\Delta = b^2 - 4ac > 0$ | Two distinct solutions                 |   |   |\n",
    "|   | $\\Delta = b^2 - 4ac < 0$ | No real solutions; both are complex.   |   |   |"
   ]
  },
  {
   "cell_type": "markdown",
   "id": "6e8bffe9-3d53-4531-887e-2931729f1917",
   "metadata": {},
   "source": [
    "## Exercise 2 (In your own words)\n",
    "1. What is a Git **repository**?\n",
    "- A Git repository is a storage location that can track and upload changes (like Google drive but manual)\n",
    "2. Git keeps tracks of _ _ _ _BLANK_ _ _ _ in the files in our repository.\n",
    "- Changes\n",
    "3. What is a **commit**?\n",
    "- Registering or recording the changes made to a file\n",
    "4. What is a **push**?\n",
    "- A push is uploading changes from a local file to the online file\n",
    "5. What is a **pull**?\n",
    "- A pull is downloading changes from an online file to a local file\n",
    "6. What is the difference between **GitHub** and **GitHub Desktop**?\n",
    "- Github desktop allows local storage and edits on a device???"
   ]
  },
  {
   "cell_type": "code",
   "execution_count": null,
   "id": "ef4b2977-45fb-4358-b243-6302bc8cb31c",
   "metadata": {},
   "outputs": [],
   "source": []
  }
 ],
 "metadata": {
  "kernelspec": {
   "display_name": "Python 3 (ipykernel)",
   "language": "python",
   "name": "python3"
  },
  "language_info": {
   "codemirror_mode": {
    "name": "ipython",
    "version": 3
   },
   "file_extension": ".py",
   "mimetype": "text/x-python",
   "name": "python",
   "nbconvert_exporter": "python",
   "pygments_lexer": "ipython3",
   "version": "3.11.5"
  },
  "toc": {
   "base_numbering": 1,
   "nav_menu": {},
   "number_sections": true,
   "sideBar": true,
   "skip_h1_title": false,
   "title_cell": "Table of Contents",
   "title_sidebar": "Contents",
   "toc_cell": false,
   "toc_position": {},
   "toc_section_display": true,
   "toc_window_display": false
  },
  "vscode": {
   "interpreter": {
    "hash": "31f2aee4e71d21fbe5cf8b01ff0e069b9275f58929596ceb00d14d90e3e16cd6"
   }
  }
 },
 "nbformat": 4,
 "nbformat_minor": 5
}
