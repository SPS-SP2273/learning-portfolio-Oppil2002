{
 "cells": [
  {
   "attachments": {},
   "cell_type": "markdown",
   "id": "123456",
   "metadata": {},
   "source": [
    "<div style=\"text-align:left;font-size:2em\"><span style=\"font-weight:bolder;font-size:1.25em\">SP2273 | Learning Portfolio</span><br><br><span style=\"font-weight:bold;color:darkred\">Loops (Good) Exercises</span></div>"
   ]
  },
  {
   "cell_type": "markdown",
   "id": "fc6dfeda-4c84-42d3-bf66-057b47b12771",
   "metadata": {},
   "source": [
    "# Exercise 1 (Make me an odd list)"
   ]
  },
  {
   "cell_type": "code",
   "execution_count": 27,
   "id": "dd82f5b2-c001-4ca4-8b6a-99865369ec5e",
   "metadata": {},
   "outputs": [
    {
     "name": "stdout",
     "output_type": "stream",
     "text": [
      "[1, 9, 25, 49, 81]\n"
     ]
    }
   ],
   "source": [
    "odd_list=[]\n",
    "for number in range(10):\n",
    "    if number % 2 == 1:\n",
    "        odd_list.append(number**2)\n",
    "print(odd_list)"
   ]
  },
  {
   "cell_type": "markdown",
   "id": "d1c4b868-6c5f-48dd-861e-be9b77684617",
   "metadata": {},
   "source": [
    "# Exercise 2 (Make me another odd list)"
   ]
  },
  {
   "cell_type": "code",
   "execution_count": 8,
   "id": "d8e160bb-44ca-4ca1-bb2b-2e0f67187729",
   "metadata": {},
   "outputs": [
    {
     "name": "stdout",
     "output_type": "stream",
     "text": [
      "[1, 9, 25, 49, 81]\n"
     ]
    }
   ],
   "source": [
    "odd_list_2 = [number ** 2 for number in range(10) if number % 2 == 1]\n",
    "\n",
    "print(odd_list_2)"
   ]
  },
  {
   "cell_type": "markdown",
   "id": "6f81c65b-d27e-4319-b8d3-a0e6b7b54ecb",
   "metadata": {},
   "source": [
    "# Exercise 3 (Time me!)"
   ]
  },
  {
   "cell_type": "code",
   "execution_count": 2,
   "id": "f967af59-0288-44c1-a8d8-af4423adbf38",
   "metadata": {},
   "outputs": [
    {
     "name": "stdout",
     "output_type": "stream",
     "text": [
      "2.09 µs ± 749 ns per loop (mean ± std. dev. of 7 runs, 100,000 loops each)\n"
     ]
    }
   ],
   "source": [
    "%%timeit\n",
    "odd_list=[]\n",
    "for number in range(10):\n",
    "    if number % 2 == 1:\n",
    "        odd_list.append(number**2)"
   ]
  },
  {
   "cell_type": "code",
   "execution_count": 3,
   "id": "8f7fc4d0-09ae-4bcc-b1fe-708e2701eafa",
   "metadata": {},
   "outputs": [
    {
     "name": "stdout",
     "output_type": "stream",
     "text": [
      "1.3 µs ± 18.9 ns per loop (mean ± std. dev. of 7 runs, 100,000 loops each)\n"
     ]
    }
   ],
   "source": [
    "%%timeit\n",
    "odd_list_2 = [number ** 2 for number in range(10) if number % 2 == 1]"
   ]
  },
  {
   "cell_type": "code",
   "execution_count": 4,
   "id": "0e082780-8515-4888-804d-50b98b2d4c20",
   "metadata": {},
   "outputs": [],
   "source": [
    "# Using list comprehension is faster and looks much neater in code"
   ]
  },
  {
   "cell_type": "markdown",
   "id": "4778386b-1210-4458-85f6-292645d46d1d",
   "metadata": {},
   "source": [
    "# Exercise 4 (A problem of decay)"
   ]
  },
  {
   "cell_type": "code",
   "execution_count": 7,
   "id": "6adc7326-340d-4931-bebc-5d95be1f5908",
   "metadata": {},
   "outputs": [
    {
     "name": "stdout",
     "output_type": "stream",
     "text": [
      "14\n"
     ]
    }
   ],
   "source": [
    "# I kind of prefer doing this problem with math :<\n",
    "\n",
    "# Let the quantity of radioactive substance be q and t be the time in years\n",
    "\n",
    "t = 0\n",
    "q = 100\n",
    "#Decay Rate\n",
    "d = 0.05\n",
    "#Target quantity\n",
    "tq = 50\n",
    "\n",
    "while q > tq:\n",
    "    q = q * (1-d)\n",
    "    t += 1\n",
    "\n",
    "print(t)"
   ]
  },
  {
   "cell_type": "code",
   "execution_count": 8,
   "id": "d2f4d7f7-9db4-4cc2-8da5-2679ce789de7",
   "metadata": {},
   "outputs": [],
   "source": [
    "# It takes 14 years for the sample to reduce to half its original size"
   ]
  },
  {
   "cell_type": "markdown",
   "id": "330faea0-34d6-41da-9892-b63023706594",
   "metadata": {},
   "source": [
    "# Exercise 5 (Changes in CO<sub>2</sub>)"
   ]
  },
  {
   "cell_type": "code",
   "execution_count": 27,
   "id": "a6011d51-7aae-4676-b44c-96bdea502af0",
   "metadata": {},
   "outputs": [
    {
     "name": "stdout",
     "output_type": "stream",
     "text": [
      "2000 369.55\n",
      "2001 371.14\n",
      "2002 373.28\n",
      "2003 375.8\n",
      "2004 377.52\n",
      "2005 379.8\n",
      "2006 381.9\n",
      "2007 383.79\n",
      "2008 385.6\n",
      "2009 387.43\n",
      "2010 389.9\n",
      "2011 391.65\n",
      "2012 393.85\n",
      "2013 396.52\n",
      "2014 398.65\n",
      "2015 400.83\n",
      "2016 404.24\n",
      "2017 406.55\n",
      "2018 408.52\n",
      "2019 411.44\n",
      "2020 414.24\n"
     ]
    }
   ],
   "source": [
    "co2_data = [\n",
    "    (2000, 369.55), (2001, 371.14), (2002, 373.28), \n",
    "    (2003, 375.80), (2004, 377.52), (2005, 379.80), \n",
    "    (2006, 381.90), (2007, 383.79), (2008, 385.60), \n",
    "    (2009, 387.43), (2010, 389.90), (2011, 391.65), \n",
    "    (2012, 393.85), (2013, 396.52), (2014, 398.65),\n",
    "    (2015, 400.83), (2016, 404.24), (2017, 406.55), \n",
    "    (2018, 408.52), (2019, 411.44), (2020, 414.24)\n",
    "]\n",
    "\n",
    "for i in range(len(co2_data)):\n",
    "    year, conc = co2_data[i]\n",
    "    print(year, conc)"
   ]
  },
  {
   "cell_type": "code",
   "execution_count": 31,
   "id": "b50b5cd5-e14c-4f13-83c5-7d80ee06bd13",
   "metadata": {},
   "outputs": [
    {
     "name": "stdout",
     "output_type": "stream",
     "text": [
      "2020 414.24\n",
      "2000 369.55\n",
      "2001 371.14\n",
      "2002 373.28\n",
      "2003 375.8\n",
      "2004 377.52\n",
      "2005 379.8\n",
      "2006 381.9\n",
      "2007 383.79\n",
      "2008 385.6\n",
      "2009 387.43\n",
      "2010 389.9\n",
      "2011 391.65\n",
      "2012 393.85\n",
      "2013 396.52\n",
      "2014 398.65\n",
      "2015 400.83\n",
      "2016 404.24\n",
      "2017 406.55\n",
      "2018 408.52\n",
      "2019 411.44\n"
     ]
    }
   ],
   "source": [
    "for i in range(len(co2_data)):\n",
    "    prev_year, p_conc = co2_data[i-1]\n",
    "    print(prev_year, p_conc)"
   ]
  },
  {
   "cell_type": "code",
   "execution_count": 37,
   "id": "37adffdd-e221-4fec-8384-85ae06942a88",
   "metadata": {},
   "outputs": [
    {
     "data": {
      "text/plain": [
       "[(2016, 3.410000000000025)]"
      ]
     },
     "execution_count": 37,
     "metadata": {},
     "output_type": "execute_result"
    }
   ],
   "source": [
    "# Let the years that showed an increase of CO2 of 3 ppm or more be x\n",
    "x = []\n",
    "\n",
    "co2_data = [\n",
    "    (2000, 369.55), (2001, 371.14), (2002, 373.28), \n",
    "    (2003, 375.80), (2004, 377.52), (2005, 379.80), \n",
    "    (2006, 381.90), (2007, 383.79), (2008, 385.60), \n",
    "    (2009, 387.43), (2010, 389.90), (2011, 391.65), \n",
    "    (2012, 393.85), (2013, 396.52), (2014, 398.65),\n",
    "    (2015, 400.83), (2016, 404.24), (2017, 406.55), \n",
    "    (2018, 408.52), (2019, 411.44), (2020, 414.24)\n",
    "]\n",
    "\n",
    "for i in range(len(co2_data)):\n",
    "    year, conc = co2_data[i]\n",
    "    prev_year, p_conc = co2_data[i-1]\n",
    "    change = conc - p_conc\n",
    "    if change >= 3:\n",
    "        x.append((year,change))\n",
    "x"
   ]
  },
  {
   "cell_type": "code",
   "execution_count": null,
   "id": "7d3cdb31-92ee-4488-8d2b-496361a8ad4e",
   "metadata": {},
   "outputs": [],
   "source": [
    "# Only 2016 had an increase of more than 3ppm compared to the previous year"
   ]
  }
 ],
 "metadata": {
  "kernelspec": {
   "display_name": "Python 3 (ipykernel)",
   "language": "python",
   "name": "python3"
  },
  "language_info": {
   "codemirror_mode": {
    "name": "ipython",
    "version": 3
   },
   "file_extension": ".py",
   "mimetype": "text/x-python",
   "name": "python",
   "nbconvert_exporter": "python",
   "pygments_lexer": "ipython3",
   "version": "3.11.5"
  },
  "toc": {
   "base_numbering": 1,
   "nav_menu": {},
   "number_sections": true,
   "sideBar": true,
   "skip_h1_title": false,
   "title_cell": "Table of Contents",
   "title_sidebar": "Contents",
   "toc_cell": false,
   "toc_position": {},
   "toc_section_display": true,
   "toc_window_display": false
  },
  "vscode": {
   "interpreter": {
    "hash": "31f2aee4e71d21fbe5cf8b01ff0e069b9275f58929596ceb00d14d90e3e16cd6"
   }
  }
 },
 "nbformat": 4,
 "nbformat_minor": 5
}
