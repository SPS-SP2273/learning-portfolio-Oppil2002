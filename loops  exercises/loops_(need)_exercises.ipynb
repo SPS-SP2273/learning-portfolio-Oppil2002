{
 "cells": [
  {
   "attachments": {},
   "cell_type": "markdown",
   "id": "123456",
   "metadata": {},
   "source": [
    "<div style=\"text-align:left;font-size:2em\"><span style=\"font-weight:bolder;font-size:1.25em\">SP2273 | Learning Portfolio</span><br><br><span style=\"font-weight:bold;color:darkred\">Loops (Need) Exercises</span></div>"
   ]
  },
  {
   "cell_type": "markdown",
   "id": "7fc4d0df-2415-4592-aa91-c2f36722b0bd",
   "metadata": {},
   "source": [
    "# Exercise 1 (Celsius to Fahrenheit)"
   ]
  },
  {
   "cell_type": "code",
   "execution_count": 2,
   "id": "fc61f434-2b75-4975-aa77-4c7c339c4779",
   "metadata": {},
   "outputs": [],
   "source": [
    "temp_c = [0, 5, 10, 15, 20, 25, 30, 35, 40, 45, 50]"
   ]
  },
  {
   "cell_type": "code",
   "execution_count": 3,
   "id": "0547ab0d-2fab-441b-a953-de326487ff6d",
   "metadata": {},
   "outputs": [
    {
     "name": "stdout",
     "output_type": "stream",
     "text": [
      "Celsius: 0; Fahrenheit: 32.0\n",
      "Celsius: 5; Fahrenheit: 41.0\n",
      "Celsius: 10; Fahrenheit: 50.0\n",
      "Celsius: 15; Fahrenheit: 59.0\n",
      "Celsius: 20; Fahrenheit: 68.0\n",
      "Celsius: 25; Fahrenheit: 77.0\n",
      "Celsius: 30; Fahrenheit: 86.0\n",
      "Celsius: 35; Fahrenheit: 95.0\n",
      "Celsius: 40; Fahrenheit: 104.0\n",
      "Celsius: 45; Fahrenheit: 113.0\n",
      "Celsius: 50; Fahrenheit: 122.0\n"
     ]
    }
   ],
   "source": [
    "for celsius in temp_c:\n",
    "    print(f\"Celsius: {celsius}; Fahrenheit: {celsius*9/5+32}\")"
   ]
  },
  {
   "cell_type": "markdown",
   "id": "209462f9-66d3-41a8-9408-c111e25f92c4",
   "metadata": {},
   "source": [
    "# Exercise 2 (Multiplication Table)"
   ]
  },
  {
   "cell_type": "code",
   "execution_count": 45,
   "id": "aa987a76-770c-4cff-843f-f2d7fa79ec42",
   "metadata": {},
   "outputs": [
    {
     "name": "stdout",
     "output_type": "stream",
     "text": [
      "A1\tA2\tA3\tA4\tA5\t\n",
      "\n",
      "B1\tB2\tB3\tB4\tB5\t\n",
      "\n",
      "C1\tC2\tC3\tC4\tC5\t\n",
      "\n"
     ]
    }
   ],
   "source": [
    "for letter in ['A', 'B', 'C']:\n",
    "    for number in [1,2,3,4,5]:\n",
    "        print(f'{letter}{number}', end='\\t')\n",
    "    print('\\n')"
   ]
  },
  {
   "cell_type": "code",
   "execution_count": 64,
   "id": "ee728176-8cfa-4c17-aa15-4c9304258101",
   "metadata": {},
   "outputs": [
    {
     "name": "stdout",
     "output_type": "stream",
     "text": [
      " 1\t 2\t 3\t 4\t 5\t\n",
      "\n",
      " 2\t 4\t 6\t 8\t 10\t\n",
      "\n",
      " 3\t 6\t 9\t 12\t 15\t\n",
      "\n",
      " 4\t 8\t 12\t 16\t 20\t\n",
      "\n",
      " 5\t 10\t 15\t 20\t 25\t\n",
      "\n"
     ]
    }
   ],
   "source": [
    "for number in range(1,6):\n",
    "    for multiple in [1,2,3,4,5]:\n",
    "        print(f\" {multiple*number}\", end=\"\\t\")\n",
    "    print(\"\\n\")"
   ]
  },
  {
   "cell_type": "code",
   "execution_count": 70,
   "id": "3acee930-b9a7-40bb-b5b9-c717cca79041",
   "metadata": {},
   "outputs": [
    {
     "name": "stdout",
     "output_type": "stream",
     "text": [
      "1:\t 1\t 2\t 3\t 4\t 5\t\n",
      "\n",
      "2:\t 2\t 4\t 6\t 8\t 10\t\n",
      "\n",
      "3:\t 3\t 6\t 9\t 12\t 15\t\n",
      "\n",
      "4:\t 4\t 8\t 12\t 16\t 20\t\n",
      "\n",
      "5:\t 5\t 10\t 15\t 20\t 25\t\n",
      "\n"
     ]
    }
   ],
   "source": [
    "for number in range(1,6):\n",
    "    print(f\"{number}:\", end=\"\\t\")\n",
    "    for multiple in [1,2,3,4,5]:\n",
    "        print(f\" {multiple*number}\", end=\"\\t\")\n",
    "    print(\"\\n\")"
   ]
  }
 ],
 "metadata": {
  "kernelspec": {
   "display_name": "Python 3 (ipykernel)",
   "language": "python",
   "name": "python3"
  },
  "language_info": {
   "codemirror_mode": {
    "name": "ipython",
    "version": 3
   },
   "file_extension": ".py",
   "mimetype": "text/x-python",
   "name": "python",
   "nbconvert_exporter": "python",
   "pygments_lexer": "ipython3",
   "version": "3.11.5"
  },
  "toc": {
   "base_numbering": 1,
   "nav_menu": {},
   "number_sections": true,
   "sideBar": true,
   "skip_h1_title": false,
   "title_cell": "Table of Contents",
   "title_sidebar": "Contents",
   "toc_cell": false,
   "toc_position": {},
   "toc_section_display": true,
   "toc_window_display": false
  },
  "vscode": {
   "interpreter": {
    "hash": "31f2aee4e71d21fbe5cf8b01ff0e069b9275f58929596ceb00d14d90e3e16cd6"
   }
  }
 },
 "nbformat": 4,
 "nbformat_minor": 5
}
