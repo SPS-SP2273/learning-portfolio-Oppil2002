{
 "cells": [
  {
   "attachments": {},
   "cell_type": "markdown",
   "id": "123456",
   "metadata": {},
   "source": [
    "<div style=\"text-align:left;font-size:2em\"><span style=\"font-weight:bolder;font-size:1.25em\">SP2273 | Learning Portfolio</span><br><br><span style=\"font-weight:bold;color:darkred\">Fundamentals (Good)</span></div>"
   ]
  },
  {
   "attachments": {},
   "cell_type": "markdown",
   "id": "c64cbd6d",
   "metadata": {},
   "source": [
    "# What to expect in this chapter"
   ]
  },
  {
   "attachments": {},
   "cell_type": "markdown",
   "id": "26a3a2ae",
   "metadata": {},
   "source": [
    "# 1 There is more to if"
   ]
  },
  {
   "cell_type": "code",
   "execution_count": 1,
   "id": "9d74c7cd-35c5-4abf-92fd-549e10c08e7f",
   "metadata": {},
   "outputs": [
    {
     "name": "stdout",
     "output_type": "stream",
     "text": [
      "Marvel's Best\n"
     ]
    }
   ],
   "source": [
    "name = 'Iron Man'\n",
    "\n",
    "if name == 'Iron Man':\n",
    "    print(\"Marvel's Best\")\n",
    "elif name == 'Tony Stark':\n",
    "    print(\"Marvel's Best but different name\")\n",
    "else:\n",
    "    print()"
   ]
  },
  {
   "cell_type": "code",
   "execution_count": 2,
   "id": "5bb202ea-f1b4-42c1-a301-c412dc1201c6",
   "metadata": {},
   "outputs": [
    {
     "name": "stdout",
     "output_type": "stream",
     "text": [
      "Marvel's Best but different name\n"
     ]
    }
   ],
   "source": [
    "name = 'Tony Stark'\n",
    "\n",
    "if name == 'Iron Man':\n",
    "    print(\"Marvel's Best\")\n",
    "elif name == 'Tony Stark':\n",
    "    print(\"Marvel's Best but different name\")\n",
    "else:\n",
    "    print()"
   ]
  },
  {
   "cell_type": "code",
   "execution_count": 5,
   "id": "5740e9e5-ef4b-4f8d-8e56-a75706bc1390",
   "metadata": {},
   "outputs": [
    {
     "name": "stdout",
     "output_type": "stream",
     "text": [
      "\n"
     ]
    }
   ],
   "source": [
    "name = 'Hulk'\n",
    "\n",
    "if name == 'Iron Man':\n",
    "    print(\"Marvel's Best\")\n",
    "elif name == 'Tony Stark':\n",
    "    print(\"Marvel's Best but different name\")\n",
    "else:\n",
    "    print()"
   ]
  },
  {
   "attachments": {},
   "cell_type": "markdown",
   "id": "a7218e42-7b1a-476c-9013-7bc31942aab5",
   "metadata": {},
   "source": [
    "# 2 Asking questions"
   ]
  },
  {
   "cell_type": "code",
   "execution_count": 7,
   "id": "cb95d06a-fe25-46e5-a03a-f4c66790344b",
   "metadata": {},
   "outputs": [],
   "source": [
    "fruits = ['apple', 'banana', 'pineapple', 'jackfruit']\n",
    "vegetables = ['celery', 'potato', 'broccoli', 'kale']"
   ]
  },
  {
   "cell_type": "code",
   "execution_count": 8,
   "id": "295a21e2-af2a-445c-be1e-de57162500dd",
   "metadata": {},
   "outputs": [
    {
     "data": {
      "text/plain": [
       "True"
      ]
     },
     "execution_count": 8,
     "metadata": {},
     "output_type": "execute_result"
    }
   ],
   "source": [
    "'apple' in fruits"
   ]
  },
  {
   "cell_type": "code",
   "execution_count": 10,
   "id": "2322eddb-2f7c-429e-81da-871800b2204f",
   "metadata": {},
   "outputs": [
    {
     "data": {
      "text/plain": [
       "True"
      ]
     },
     "execution_count": 10,
     "metadata": {},
     "output_type": "execute_result"
    }
   ],
   "source": [
    "'peach' not in fruits"
   ]
  },
  {
   "cell_type": "code",
   "execution_count": 11,
   "id": "4085275c-ca1d-4614-a5b7-16379d6f6a43",
   "metadata": {},
   "outputs": [
    {
     "data": {
      "text/plain": [
       "False"
      ]
     },
     "execution_count": 11,
     "metadata": {},
     "output_type": "execute_result"
    }
   ],
   "source": [
    "'apples' > 'oranges'"
   ]
  },
  {
   "cell_type": "code",
   "execution_count": 13,
   "id": "d35d4f0a-b051-4388-a89b-2b68355526b4",
   "metadata": {},
   "outputs": [
    {
     "data": {
      "text/plain": [
       "True"
      ]
     },
     "execution_count": 13,
     "metadata": {},
     "output_type": "execute_result"
    }
   ],
   "source": [
    "'apples' < 'oranges' # a is 97 and o is 111"
   ]
  },
  {
   "attachments": {},
   "cell_type": "markdown",
   "id": "dcea981d",
   "metadata": {},
   "source": [
    "## 2.1 Asking Math questions"
   ]
  },
  {
   "cell_type": "code",
   "execution_count": 16,
   "id": "81b5cb4b-3069-4dd1-bb92-81b2042a0189",
   "metadata": {},
   "outputs": [
    {
     "data": {
      "text/plain": [
       "True"
      ]
     },
     "execution_count": 16,
     "metadata": {},
     "output_type": "execute_result"
    }
   ],
   "source": [
    "x = 20\n",
    "x > 5"
   ]
  },
  {
   "cell_type": "code",
   "execution_count": 17,
   "id": "da896ea1-77ad-4b63-b257-64caea42000e",
   "metadata": {},
   "outputs": [
    {
     "data": {
      "text/plain": [
       "False"
      ]
     },
     "execution_count": 17,
     "metadata": {},
     "output_type": "execute_result"
    }
   ],
   "source": [
    "5 < x < 19"
   ]
  },
  {
   "attachments": {},
   "cell_type": "markdown",
   "id": "0d9a8843",
   "metadata": {},
   "source": [
    "# 3 Python stores information in different formats or types"
   ]
  },
  {
   "cell_type": "code",
   "execution_count": 21,
   "id": "e0d52cdb-e3ae-486d-927b-c1ddf96f6fcb",
   "metadata": {},
   "outputs": [
    {
     "name": "stdout",
     "output_type": "stream",
     "text": [
      "9\n",
      "9 <class 'int'>\n",
      "<class 'int'>\n"
     ]
    }
   ],
   "source": [
    "x = int(9.876)\n",
    "print(x)\n",
    "print(x, type(x))\n",
    "print(type(x))"
   ]
  },
  {
   "cell_type": "code",
   "execution_count": 24,
   "id": "d7a21f0a-5750-466f-b1f3-b0ce3aa5ea4a",
   "metadata": {},
   "outputs": [
    {
     "name": "stdout",
     "output_type": "stream",
     "text": [
      "182 <class 'str'>\n"
     ]
    }
   ],
   "source": [
    "x = str(182)\n",
    "print(x, type(x))"
   ]
  },
  {
   "cell_type": "code",
   "execution_count": 25,
   "id": "64286140-954c-4903-bed0-01590d2b63df",
   "metadata": {},
   "outputs": [
    {
     "name": "stdout",
     "output_type": "stream",
     "text": [
      "91.190298 <class 'float'>\n"
     ]
    }
   ],
   "source": [
    "x = float(91.190298)\n",
    "print(x,type(x))"
   ]
  },
  {
   "cell_type": "code",
   "execution_count": 27,
   "id": "582b5b7c-55d6-47e9-bf4f-f124f7f28b47",
   "metadata": {},
   "outputs": [
    {
     "name": "stdout",
     "output_type": "stream",
     "text": [
      "(293+18j) <class 'complex'>\n"
     ]
    }
   ],
   "source": [
    "x = complex(293+18j)\n",
    "print(x,type(x))"
   ]
  },
  {
   "cell_type": "code",
   "execution_count": 28,
   "id": "943a0686-d2a3-4fd0-8b45-b7c14cfbdfb3",
   "metadata": {},
   "outputs": [
    {
     "name": "stdout",
     "output_type": "stream",
     "text": [
      "<class 'str'>\n"
     ]
    }
   ],
   "source": [
    "x = '1.222'\n",
    "print(type(x))"
   ]
  },
  {
   "cell_type": "code",
   "execution_count": 30,
   "id": "668325bb-4d3c-454f-8520-abb68a21765c",
   "metadata": {},
   "outputs": [
    {
     "name": "stdout",
     "output_type": "stream",
     "text": [
      "<class 'float'>\n"
     ]
    }
   ],
   "source": [
    "x = float(x) #Typecasting, where we cast x to the type float\n",
    "print(type(x))"
   ]
  },
  {
   "attachments": {},
   "cell_type": "markdown",
   "id": "d4453c89",
   "metadata": {},
   "source": [
    "#  4 Never compare floats directly"
   ]
  },
  {
   "attachments": {},
   "cell_type": "markdown",
   "id": "dca8711f",
   "metadata": {},
   "source": [
    "##  4.1 The Problem"
   ]
  },
  {
   "cell_type": "code",
   "execution_count": 31,
   "id": "f3aaf978-1bae-4575-be3a-a2e688d91d5d",
   "metadata": {},
   "outputs": [
    {
     "data": {
      "text/plain": [
       "False"
      ]
     },
     "execution_count": 31,
     "metadata": {},
     "output_type": "execute_result"
    }
   ],
   "source": [
    "a = 0.1\n",
    "a3 = 0.3\n",
    "a * 3 == a3"
   ]
  },
  {
   "cell_type": "code",
   "execution_count": 34,
   "id": "c10c5664-a64c-46d0-8667-a0182853772e",
   "metadata": {},
   "outputs": [
    {
     "data": {
      "text/plain": [
       "'0.88970000000000005'"
      ]
     },
     "execution_count": 34,
     "metadata": {},
     "output_type": "execute_result"
    }
   ],
   "source": [
    "f'{0.8897:.17f}'"
   ]
  },
  {
   "attachments": {},
   "cell_type": "markdown",
   "id": "6625aa7a",
   "metadata": {},
   "source": [
    "##  4.2 A solution"
   ]
  },
  {
   "cell_type": "code",
   "execution_count": 35,
   "id": "2b621225-6e19-46be-b49d-775f5201c1f1",
   "metadata": {},
   "outputs": [
    {
     "data": {
      "text/plain": [
       "True"
      ]
     },
     "execution_count": 35,
     "metadata": {},
     "output_type": "execute_result"
    }
   ],
   "source": [
    "eps = 1E-10\n",
    "abs(a * 3 - a3) < eps"
   ]
  },
  {
   "cell_type": "code",
   "execution_count": 37,
   "id": "2707b44b-4c9e-4331-b8a7-36d304d81d7a",
   "metadata": {},
   "outputs": [
    {
     "data": {
      "text/plain": [
       "True"
      ]
     },
     "execution_count": 37,
     "metadata": {},
     "output_type": "execute_result"
    }
   ],
   "source": [
    "import numpy as np\n",
    "np.isclose(a * 3, a3)"
   ]
  },
  {
   "attachments": {},
   "cell_type": "markdown",
   "id": "3fd45b08",
   "metadata": {},
   "source": [
    "# 5 Combining English and variables"
   ]
  },
  {
   "cell_type": "code",
   "execution_count": 8,
   "id": "aae8a873-2603-43d9-99fb-9c01b966ea50",
   "metadata": {},
   "outputs": [
    {
     "name": "stdout",
     "output_type": "stream",
     "text": [
      "Hello Hulk!\n"
     ]
    }
   ],
   "source": [
    "name = \"Hulk\"\n",
    "print(f\"Hello {name}!\")"
   ]
  },
  {
   "cell_type": "code",
   "execution_count": 9,
   "id": "2869547c-6e39-4455-a1d8-ae31a5841b2f",
   "metadata": {},
   "outputs": [
    {
     "name": "stdout",
     "output_type": "stream",
     "text": [
      "Hello HULK!\n"
     ]
    }
   ],
   "source": [
    "print(f\"Hello {name.upper()}!\")"
   ]
  },
  {
   "cell_type": "code",
   "execution_count": 10,
   "id": "3310130c-73cd-4eb3-bddd-8daada81a680",
   "metadata": {},
   "outputs": [
    {
     "name": "stdout",
     "output_type": "stream",
     "text": [
      "The value of 10 squared is 100!\n"
     ]
    }
   ],
   "source": [
    "x = 10\n",
    "print(f\"The value of {x} squared is {x**2}!\")"
   ]
  },
  {
   "cell_type": "code",
   "execution_count": 11,
   "id": "bc287421-9308-4e41-bea6-78aa9018bdb6",
   "metadata": {},
   "outputs": [
    {
     "name": "stdout",
     "output_type": "stream",
     "text": [
      "                                       Python is interesting                                        \n"
     ]
    }
   ],
   "source": [
    "text='Python is interesting'\n",
    "print(f'{text:^100}')"
   ]
  },
  {
   "cell_type": "code",
   "execution_count": 12,
   "id": "bc13da13-3375-4858-b03a-6df733af47e1",
   "metadata": {},
   "outputs": [
    {
     "name": "stdout",
     "output_type": "stream",
     "text": [
      "                             Python is interesting\n"
     ]
    }
   ],
   "source": [
    "print(f'{text:>50}')"
   ]
  },
  {
   "cell_type": "code",
   "execution_count": 13,
   "id": "7bcb4d7c-6fe5-4faa-b319-2a40ae2d2b5c",
   "metadata": {},
   "outputs": [
    {
     "name": "stdout",
     "output_type": "stream",
     "text": [
      "Python is interesting\n"
     ]
    }
   ],
   "source": [
    "print(f'{text:<10}')"
   ]
  },
  {
   "cell_type": "code",
   "execution_count": 14,
   "id": "e5567d6b-8ba8-4511-b629-3a34d97e2d5f",
   "metadata": {},
   "outputs": [
    {
     "name": "stdout",
     "output_type": "stream",
     "text": [
      "The square of e to 10 decimal places is 7.3890560989\n"
     ]
    }
   ],
   "source": [
    "import numpy as np\n",
    "print(f'The square of e to 10 decimal places is {np.e**2:.10f}')"
   ]
  },
  {
   "attachments": {},
   "cell_type": "markdown",
   "id": "39f13162",
   "metadata": {},
   "source": [
    "## 5.1 Structure of f-strings"
   ]
  },
  {
   "attachments": {},
   "cell_type": "markdown",
   "id": "ba88dcb5",
   "metadata": {},
   "source": [
    "# 7 Escape sequences"
   ]
  },
  {
   "cell_type": "code",
   "execution_count": 15,
   "id": "d984c3fc-5a61-4f07-a4f2-03451b297e46",
   "metadata": {},
   "outputs": [
    {
     "name": "stdout",
     "output_type": "stream",
     "text": [
      "Line 1\n",
      "\tLine 2\n",
      "\t\tLine 3\n"
     ]
    }
   ],
   "source": [
    "print('Line 1\\n\\tLine 2\\n\\t\\tLine 3')"
   ]
  },
  {
   "cell_type": "code",
   "execution_count": 16,
   "id": "51301244-b7ab-4b91-bb74-ee27ebf1d211",
   "metadata": {},
   "outputs": [
    {
     "name": "stdout",
     "output_type": "stream",
     "text": [
      "\tThis is just a sentence that has indented left\n",
      "And this sentence is below it with no indent\n"
     ]
    }
   ],
   "source": [
    "print('\\tThis is just a sentence that has indented left\\nAnd this sentence is below it with no indent')"
   ]
  },
  {
   "attachments": {},
   "cell_type": "markdown",
   "id": "ae440a17",
   "metadata": {},
   "source": [
    "# 8 Computers read = from Right to Left!"
   ]
  },
  {
   "cell_type": "code",
   "execution_count": 4,
   "id": "6f165134-8098-48ac-bd0b-8540ca014ef8",
   "metadata": {},
   "outputs": [],
   "source": [
    "x = 40\n",
    "y = x + 2"
   ]
  },
  {
   "cell_type": "code",
   "execution_count": 5,
   "id": "6a8cbfec-17aa-482d-97e0-dd7349d5c8e2",
   "metadata": {},
   "outputs": [
    {
     "name": "stdout",
     "output_type": "stream",
     "text": [
      "42\n"
     ]
    }
   ],
   "source": [
    "y = 40\n",
    "y = y + 2\n",
    "print(y)"
   ]
  },
  {
   "cell_type": "code",
   "execution_count": null,
   "id": "281de318-2fcb-4472-ad3b-b1de7fb98917",
   "metadata": {},
   "outputs": [],
   "source": [
    "x = y = 10"
   ]
  },
  {
   "cell_type": "code",
   "execution_count": null,
   "id": "4ca467f0-512a-4341-9df7-3d187e06acd2",
   "metadata": {},
   "outputs": [],
   "source": [
    "# I don't understand how this works at all"
   ]
  },
  {
   "attachments": {},
   "cell_type": "markdown",
   "id": "07981cc4",
   "metadata": {},
   "source": [
    "# 9 Shorter and Cleaner Code"
   ]
  },
  {
   "cell_type": "code",
   "execution_count": 18,
   "id": "cbcf47d6-a7b2-4016-aca8-86e816054047",
   "metadata": {},
   "outputs": [
    {
     "data": {
      "text/plain": [
       "42"
      ]
     },
     "execution_count": 18,
     "metadata": {},
     "output_type": "execute_result"
    }
   ],
   "source": [
    "y = 40\n",
    "y = y + 2\n",
    "y"
   ]
  },
  {
   "cell_type": "code",
   "execution_count": 21,
   "id": "443c3338-fedc-4a2d-a91a-7f26f1a8fd6e",
   "metadata": {},
   "outputs": [
    {
     "data": {
      "text/plain": [
       "42"
      ]
     },
     "execution_count": 21,
     "metadata": {},
     "output_type": "execute_result"
    }
   ],
   "source": [
    "y = 40\n",
    "y += 2    # Same as y = y + 2\n",
    "y"
   ]
  },
  {
   "cell_type": "code",
   "execution_count": 23,
   "id": "d4504980-2347-4fa9-91bf-4f6e0819b921",
   "metadata": {},
   "outputs": [
    {
     "data": {
      "text/plain": [
       "125"
      ]
     },
     "execution_count": 23,
     "metadata": {},
     "output_type": "execute_result"
    }
   ],
   "source": [
    "y=25\n",
    "y = y * 5\n",
    "y"
   ]
  },
  {
   "cell_type": "code",
   "execution_count": 25,
   "id": "741e9ec7-0304-49a1-83dd-1d464484e9a8",
   "metadata": {},
   "outputs": [
    {
     "data": {
      "text/plain": [
       "125"
      ]
     },
     "execution_count": 25,
     "metadata": {},
     "output_type": "execute_result"
    }
   ],
   "source": [
    "y=25\n",
    "y*=5\n",
    "y"
   ]
  },
  {
   "attachments": {},
   "cell_type": "markdown",
   "id": "cd78d223",
   "metadata": {},
   "source": [
    "# 10 Python can be a prima-donna."
   ]
  },
  {
   "cell_type": "code",
   "execution_count": null,
   "id": "cb95c742-ea19-48d6-9bd6-c8313c8db0bd",
   "metadata": {},
   "outputs": [],
   "source": [
    "# Yes debugging is sometimes pretty fun"
   ]
  },
  {
   "attachments": {},
   "cell_type": "markdown",
   "id": "9e90f2c5",
   "metadata": {},
   "source": [
    "# 11 Best Practices for Scientific Computing"
   ]
  },
  {
   "attachments": {},
   "cell_type": "markdown",
   "id": "617e728c",
   "metadata": {},
   "source": [
    "# 12 Looking for help"
   ]
  },
  {
   "cell_type": "code",
   "execution_count": 26,
   "id": "7d7de654-1a97-4bc8-8bfd-62400fd5348a",
   "metadata": {},
   "outputs": [
    {
     "name": "stdout",
     "output_type": "stream",
     "text": [
      "Help on built-in function print in module builtins:\n",
      "\n",
      "print(*args, sep=' ', end='\\n', file=None, flush=False)\n",
      "    Prints the values to a stream, or to sys.stdout by default.\n",
      "    \n",
      "    sep\n",
      "      string inserted between values, default a space.\n",
      "    end\n",
      "      string appended after the last value, default a newline.\n",
      "    file\n",
      "      a file-like object (stream); defaults to the current sys.stdout.\n",
      "    flush\n",
      "      whether to forcibly flush the stream.\n",
      "\n"
     ]
    }
   ],
   "source": [
    "help(print)"
   ]
  },
  {
   "attachments": {},
   "cell_type": "markdown",
   "id": "ff20517e",
   "metadata": {},
   "source": [
    "## References"
   ]
  },
  {
   "attachments": {},
   "cell_type": "markdown",
   "id": "03565b78",
   "metadata": {},
   "source": [
    "## Footnotes"
   ]
  }
 ],
 "metadata": {
  "kernelspec": {
   "display_name": "Python 3 (ipykernel)",
   "language": "python",
   "name": "python3"
  },
  "language_info": {
   "codemirror_mode": {
    "name": "ipython",
    "version": 3
   },
   "file_extension": ".py",
   "mimetype": "text/x-python",
   "name": "python",
   "nbconvert_exporter": "python",
   "pygments_lexer": "ipython3",
   "version": "3.11.5"
  },
  "toc": {
   "base_numbering": 1,
   "nav_menu": {},
   "number_sections": true,
   "sideBar": true,
   "skip_h1_title": false,
   "title_cell": "Table of Contents",
   "title_sidebar": "Contents",
   "toc_cell": false,
   "toc_position": {},
   "toc_section_display": true,
   "toc_window_display": false
  },
  "vscode": {
   "interpreter": {
    "hash": "31f2aee4e71d21fbe5cf8b01ff0e069b9275f58929596ceb00d14d90e3e16cd6"
   }
  }
 },
 "nbformat": 4,
 "nbformat_minor": 5
}
