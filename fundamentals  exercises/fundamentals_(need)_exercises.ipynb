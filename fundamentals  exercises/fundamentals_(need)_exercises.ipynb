{
 "cells": [
  {
   "attachments": {},
   "cell_type": "markdown",
   "id": "123456",
   "metadata": {},
   "source": [
    "<div style=\"text-align:left;font-size:2em\"><span style=\"font-weight:bolder;font-size:1.25em\">SP2273 | Learning Portfolio</span><br><br><span style=\"font-weight:bold;color:darkred\">Fundamentals (Need) Exercises</span></div>"
   ]
  },
  {
   "cell_type": "markdown",
   "id": "4e40a5b4-0de7-4d45-b2df-f0d690d0abfd",
   "metadata": {},
   "source": [
    "#  Exercise 1"
   ]
  },
  {
   "cell_type": "markdown",
   "id": "132c4344-f30f-492a-9723-7f78104eb572",
   "metadata": {},
   "source": [
    "List of Python Features"
   ]
  },
  {
   "cell_type": "markdown",
   "id": "8503d4af-08b1-4a52-8870-7a42110f4934",
   "metadata": {},
   "source": [
    "1. Functions\n",
    "1. Brackets\n",
    "1. Dot\n",
    "1. Indentation\n",
    "1. Equal sign vs double equal sign\n",
    "1. List\n",
    "1. Dictionary\n",
    "1. Use of '' and \"\"\n",
    "1. *Python is interpreted*\n",
    "1. *case-sensitive*\n",
    "1. *#comments#*\n",
    "1. *if and else*\n",
    "1. *packages*"
   ]
  },
  {
   "cell_type": "markdown",
   "id": "20f8aa58-2061-40d1-af40-e74da872aef6",
   "metadata": {},
   "source": [
    "#  Exercise 2"
   ]
  },
  {
   "cell_type": "code",
   "execution_count": 4,
   "id": "c671a21a-08ee-4be3-bc05-d6b85476072f",
   "metadata": {},
   "outputs": [
    {
     "ename": "IndentationError",
     "evalue": "unindent does not match any outer indentation level (<tokenize>, line 3)",
     "output_type": "error",
     "traceback": [
      "\u001b[0;36m  File \u001b[0;32m<tokenize>:3\u001b[0;36m\u001b[0m\n\u001b[0;31m    Print(x, y, z)\u001b[0m\n\u001b[0m    ^\u001b[0m\n\u001b[0;31mIndentationError\u001b[0m\u001b[0;31m:\u001b[0m unindent does not match any outer indentation level\n"
     ]
    }
   ],
   "source": [
    "x, y = 3, 4\n",
    "        z = sqrt(x*2 + y**2)\n",
    "    Print(x, y, z)"
   ]
  },
  {
   "cell_type": "code",
   "execution_count": 7,
   "id": "e87efebf-e9e0-4194-ba4e-58d010452f0b",
   "metadata": {},
   "outputs": [
    {
     "name": "stdout",
     "output_type": "stream",
     "text": [
      "3 4 4.69041575982343\n"
     ]
    }
   ],
   "source": [
    "import numpy as np\n",
    "\n",
    "x, y = 3, 4\n",
    "z = np.sqrt(x*2 + y**2)\n",
    "print(x, y, z)"
   ]
  },
  {
   "cell_type": "markdown",
   "id": "e72bf251-4970-4d68-b62b-08f1f2146354",
   "metadata": {},
   "source": [
    "#  Exercise 3"
   ]
  },
  {
   "cell_type": "markdown",
   "id": "430c3cc9-1641-4e6c-becf-9f37f2e3e20e",
   "metadata": {},
   "source": [
    "| #  | Term         | Description                                                             |\n",
    "|----|--------------|-------------------------------------------------------------------------|\n",
    "|  1 | Function     | A function is a command for Python to do work                           |\n",
    "|  2 | Arguments    | An argument is a value that is used by a function                       |\n",
    "|  3 | Comments     | Comments are not read by Python and are left for the reader of the code |\n",
    "|  4 | Indentations | Only for if-else statements                                             |\n",
    "|  5 | Packages     | For math and numpy or other useful functions                            |\n",
    "|  6 | .            | A dot is used for ownership                                             |\n",
    "|  7 | :            | A colon is used to indicate a block of code                             |\n",
    "|  8 | []           | Square brackets are used for list                                       |\n",
    "|  9 | [[[]]]       | A list in a list in a list                                                           |\n",
    "| 10 | {}           | Curly brackets are used for dictionary                                  |"
   ]
  },
  {
   "cell_type": "markdown",
   "id": "8eafa421-4ed7-49ab-a967-0f1febbaca42",
   "metadata": {},
   "source": [
    "#  Exercise 4"
   ]
  },
  {
   "cell_type": "code",
   "execution_count": 8,
   "id": "966b05a7-0916-47b2-beaf-f5e2906abc5c",
   "metadata": {},
   "outputs": [
    {
     "data": {
      "text/plain": [
       "2.5"
      ]
     },
     "execution_count": 8,
     "metadata": {},
     "output_type": "execute_result"
    }
   ],
   "source": [
    "5/2"
   ]
  },
  {
   "cell_type": "code",
   "execution_count": 10,
   "id": "2cf9ce81-d2d1-4ebf-b682-ef18c13cec60",
   "metadata": {},
   "outputs": [],
   "source": [
    "#The above is simple division"
   ]
  },
  {
   "cell_type": "code",
   "execution_count": 16,
   "id": "d9460b44-5ea5-461a-923a-6be9d21479e7",
   "metadata": {},
   "outputs": [
    {
     "data": {
      "text/plain": [
       "333"
      ]
     },
     "execution_count": 16,
     "metadata": {},
     "output_type": "execute_result"
    }
   ],
   "source": [
    "5//2\n",
    "9//2\n",
    "10//3\n",
    "1000//3"
   ]
  },
  {
   "cell_type": "code",
   "execution_count": 18,
   "id": "e880153c-675e-46bb-ad9f-34ae89d310e8",
   "metadata": {},
   "outputs": [],
   "source": [
    "#The above is division but rounded down to the nearest whole number"
   ]
  },
  {
   "cell_type": "code",
   "execution_count": 21,
   "id": "52b0fe46-15de-4ee8-82af-a10ecebb2c4e",
   "metadata": {},
   "outputs": [
    {
     "data": {
      "text/plain": [
       "2"
      ]
     },
     "execution_count": 21,
     "metadata": {},
     "output_type": "execute_result"
    }
   ],
   "source": [
    "5%2\n",
    "10%3\n",
    "20%3"
   ]
  },
  {
   "cell_type": "code",
   "execution_count": 22,
   "id": "4e292987-6d6e-46d8-af48-77500c21564f",
   "metadata": {},
   "outputs": [],
   "source": [
    "#The above generates the remainder"
   ]
  }
 ],
 "metadata": {
  "kernelspec": {
   "display_name": "Python 3 (ipykernel)",
   "language": "python",
   "name": "python3"
  },
  "language_info": {
   "codemirror_mode": {
    "name": "ipython",
    "version": 3
   },
   "file_extension": ".py",
   "mimetype": "text/x-python",
   "name": "python",
   "nbconvert_exporter": "python",
   "pygments_lexer": "ipython3",
   "version": "3.11.5"
  },
  "toc": {
   "base_numbering": 1,
   "nav_menu": {},
   "number_sections": true,
   "sideBar": true,
   "skip_h1_title": false,
   "title_cell": "Table of Contents",
   "title_sidebar": "Contents",
   "toc_cell": false,
   "toc_position": {},
   "toc_section_display": true,
   "toc_window_display": false
  },
  "vscode": {
   "interpreter": {
    "hash": "31f2aee4e71d21fbe5cf8b01ff0e069b9275f58929596ceb00d14d90e3e16cd6"
   }
  }
 },
 "nbformat": 4,
 "nbformat_minor": 5
}
