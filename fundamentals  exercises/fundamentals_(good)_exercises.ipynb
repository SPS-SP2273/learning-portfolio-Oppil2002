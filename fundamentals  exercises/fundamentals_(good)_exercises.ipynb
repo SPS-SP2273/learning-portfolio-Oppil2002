{
 "cells": [
  {
   "attachments": {},
   "cell_type": "markdown",
   "id": "123456",
   "metadata": {},
   "source": [
    "<div style=\"text-align:left;font-size:2em\"><span style=\"font-weight:bolder;font-size:1.25em\">SP2273 | Learning Portfolio</span><br><br><span style=\"font-weight:bold;color:darkred\">Fundamentals (Good) Exercises</span></div>"
   ]
  },
  {
   "cell_type": "code",
   "execution_count": 1,
   "id": "cb170f6b-c58a-4c41-965d-d4f732ed5e48",
   "metadata": {},
   "outputs": [
    {
     "name": "stdin",
     "output_type": "stream",
     "text": [
      "Give me a number? 50\n"
     ]
    },
    {
     "name": "stdout",
     "output_type": "stream",
     "text": [
      "You entered 50\n"
     ]
    }
   ],
   "source": [
    "user_input = input('Give me a number?')\n",
    "print('You entered', user_input)"
   ]
  },
  {
   "cell_type": "code",
   "execution_count": 2,
   "id": "a3304300-3109-42d8-a79b-d7f6fc68ac51",
   "metadata": {},
   "outputs": [
    {
     "ename": "SyntaxError",
     "evalue": "invalid syntax. Maybe you meant '==' or ':=' instead of '='? (331864391.py, line 10)",
     "output_type": "error",
     "traceback": [
      "\u001b[0;36m  Cell \u001b[0;32mIn[2], line 10\u001b[0;36m\u001b[0m\n\u001b[0;31m    grade = 'A'\u001b[0m\n\u001b[0m    ^\u001b[0m\n\u001b[0;31mSyntaxError\u001b[0m\u001b[0;31m:\u001b[0m invalid syntax. Maybe you meant '==' or ':=' instead of '='?\n"
     ]
    }
   ],
   "source": [
    "# Attempt 1\n",
    "\n",
    "# Define score as the input function\n",
    "\n",
    "score = input(\"Enter the student's score here:\")\n",
    "\n",
    "# Define if-else statements\n",
    "\n",
    "if (70<score<100) {\n",
    "    grade = 'A'\n",
    "} else {\n",
    "    if (50<score<69) {\n",
    "    grade = 'B'\n",
    "    } else {\n",
    "        if (35<score<49) {\n",
    "        grade = 'C'\n",
    "        } else {\n",
    "            grade = 'F'\n",
    "        }\n",
    "    } \n",
    "}\n",
    "\n",
    "print(f\"The student's grade is in the {grade.upper()}region\")"
   ]
  },
  {
   "cell_type": "code",
   "execution_count": 5,
   "id": "697c16f8-4977-47dd-a91c-2cbeb681c634",
   "metadata": {},
   "outputs": [
    {
     "ename": "SyntaxError",
     "evalue": "invalid syntax. Maybe you meant '==' or ':=' instead of '='? (2526137756.py, line 11)",
     "output_type": "error",
     "traceback": [
      "\u001b[0;36m  Cell \u001b[0;32mIn[5], line 11\u001b[0;36m\u001b[0m\n\u001b[0;31m    x = str(A)\u001b[0m\n\u001b[0m    ^\u001b[0m\n\u001b[0;31mSyntaxError\u001b[0m\u001b[0;31m:\u001b[0m invalid syntax. Maybe you meant '==' or ':=' instead of '='?\n"
     ]
    }
   ],
   "source": [
    "# Attempt 2\n",
    "\n",
    "# Define score as the input function\n",
    "\n",
    "score = input(\"Enter the student's score here:\")\n",
    "\n",
    "# Define if-else statements\n",
    "# I will try to use a variable instead\n",
    "\n",
    "if (70<score<100) {\n",
    "    x = str(A)\n",
    "} else {\n",
    "    if (50<score<69) {\n",
    "    x = str(B)\n",
    "    } else {\n",
    "        if (35<score<49) {\n",
    "        x = str(C)\n",
    "        } else {\n",
    "            x = str(F)\n",
    "        }\n",
    "    } \n",
    "}\n",
    "\n",
    "print(f\"The student's grade is in the {x.upper()}region\")"
   ]
  },
  {
   "cell_type": "code",
   "execution_count": 8,
   "id": "cce5544d-775f-423a-97f9-6da9a713875a",
   "metadata": {},
   "outputs": [
    {
     "name": "stdin",
     "output_type": "stream",
     "text": [
      "Enter the student's score here: 50\n"
     ]
    },
    {
     "ename": "TypeError",
     "evalue": "'<' not supported between instances of 'int' and 'str'",
     "output_type": "error",
     "traceback": [
      "\u001b[0;31m---------------------------------------------------------------------------\u001b[0m",
      "\u001b[0;31mTypeError\u001b[0m                                 Traceback (most recent call last)",
      "Cell \u001b[0;32mIn[8], line 11\u001b[0m\n\u001b[1;32m      5\u001b[0m score \u001b[38;5;241m=\u001b[39m \u001b[38;5;28minput\u001b[39m(\u001b[38;5;124m\"\u001b[39m\u001b[38;5;124mEnter the student\u001b[39m\u001b[38;5;124m'\u001b[39m\u001b[38;5;124ms score here:\u001b[39m\u001b[38;5;124m\"\u001b[39m)\n\u001b[1;32m      7\u001b[0m \u001b[38;5;66;03m# Define if-else statements\u001b[39;00m\n\u001b[1;32m      8\u001b[0m \u001b[38;5;66;03m# I will try to use a variable instead\u001b[39;00m\n\u001b[1;32m      9\u001b[0m \u001b[38;5;66;03m# Switching to elif statement\u001b[39;00m\n\u001b[0;32m---> 11\u001b[0m \u001b[38;5;28;01mif\u001b[39;00m (\u001b[38;5;241;43m70\u001b[39;49m\u001b[38;5;241;43m<\u001b[39;49m\u001b[43mscore\u001b[49m\u001b[38;5;241;43m<\u001b[39;49m\u001b[38;5;241;43m100\u001b[39;49m):\n\u001b[1;32m     12\u001b[0m     x \u001b[38;5;241m=\u001b[39m \u001b[38;5;28mstr\u001b[39m(A)\n\u001b[1;32m     13\u001b[0m \u001b[38;5;28;01melif\u001b[39;00m (\u001b[38;5;241m50\u001b[39m\u001b[38;5;241m<\u001b[39mscore\u001b[38;5;241m<\u001b[39m\u001b[38;5;241m69\u001b[39m):\n",
      "\u001b[0;31mTypeError\u001b[0m: '<' not supported between instances of 'int' and 'str'"
     ]
    }
   ],
   "source": [
    "# Attempt 3\n",
    "\n",
    "# Define score as the input function\n",
    "\n",
    "score = input(\"Enter the student's score here:\")\n",
    "\n",
    "# Define if-else statements\n",
    "# I will try to use a variable instead\n",
    "# Switching to elif statement\n",
    "\n",
    "if (70<score<100):\n",
    "    x = str(A)\n",
    "elif (50<score<69):\n",
    "    x = str(B)\n",
    "elif (35<score<49):\n",
    "    x = str(C)\n",
    "else: x = str(F)\n",
    "\n",
    "print(f\"The student's grade is in the {x.upper()}region\")"
   ]
  },
  {
   "cell_type": "code",
   "execution_count": 1,
   "id": "d495faed-c133-4776-8c9d-0854f7b68b86",
   "metadata": {},
   "outputs": [
    {
     "name": "stdin",
     "output_type": "stream",
     "text": [
      "Enter the student's score here: 8\n"
     ]
    },
    {
     "ename": "TypeError",
     "evalue": "'<' not supported between instances of 'int' and 'str'",
     "output_type": "error",
     "traceback": [
      "\u001b[0;31m---------------------------------------------------------------------------\u001b[0m",
      "\u001b[0;31mTypeError\u001b[0m                                 Traceback (most recent call last)",
      "Cell \u001b[0;32mIn[1], line 12\u001b[0m\n\u001b[1;32m      5\u001b[0m score \u001b[38;5;241m=\u001b[39m \u001b[38;5;28minput\u001b[39m(\u001b[38;5;124m\"\u001b[39m\u001b[38;5;124mEnter the student\u001b[39m\u001b[38;5;124m'\u001b[39m\u001b[38;5;124ms score here:\u001b[39m\u001b[38;5;124m\"\u001b[39m)\n\u001b[1;32m      7\u001b[0m \u001b[38;5;66;03m# Define if-else statements\u001b[39;00m\n\u001b[1;32m      8\u001b[0m \u001b[38;5;66;03m# I will try to use a variable instead\u001b[39;00m\n\u001b[1;32m      9\u001b[0m \u001b[38;5;66;03m# Switching to elif statement\u001b[39;00m\n\u001b[1;32m     10\u001b[0m \u001b[38;5;66;03m# Change str\u001b[39;00m\n\u001b[0;32m---> 12\u001b[0m \u001b[38;5;28;01mif\u001b[39;00m (\u001b[38;5;241;43m70\u001b[39;49m\u001b[38;5;241;43m<\u001b[39;49m\u001b[43mscore\u001b[49m\u001b[38;5;241;43m<\u001b[39;49m\u001b[38;5;241;43m100\u001b[39;49m):\n\u001b[1;32m     13\u001b[0m     x \u001b[38;5;241m=\u001b[39m \u001b[38;5;124m'\u001b[39m\u001b[38;5;124mA\u001b[39m\u001b[38;5;124m'\u001b[39m\n\u001b[1;32m     14\u001b[0m \u001b[38;5;28;01melif\u001b[39;00m (\u001b[38;5;241m50\u001b[39m\u001b[38;5;241m<\u001b[39mscore\u001b[38;5;241m<\u001b[39m\u001b[38;5;241m69\u001b[39m):\n",
      "\u001b[0;31mTypeError\u001b[0m: '<' not supported between instances of 'int' and 'str'"
     ]
    }
   ],
   "source": [
    "# Attempt 4\n",
    "\n",
    "# Define score as the input function\n",
    "\n",
    "score = input(\"Enter the student's score here:\")\n",
    "\n",
    "# Define if-else statements\n",
    "# I will try to use a variable instead\n",
    "# Switching to elif statement\n",
    "# Change str\n",
    "\n",
    "if (70<score<100):\n",
    "    x = 'A'\n",
    "elif (50<score<69):\n",
    "    x = 'B'\n",
    "elif (35<score<49):\n",
    "    x = 'C'\n",
    "else: x = 'F'\n",
    "\n",
    "print(f\"The student's grade is in the {x.upper()}region\")"
   ]
  },
  {
   "cell_type": "code",
   "execution_count": 4,
   "id": "a9ba4856-b08e-4340-b1e1-a6c8fba8f02c",
   "metadata": {},
   "outputs": [
    {
     "name": "stdin",
     "output_type": "stream",
     "text": [
      "Enter the student's score here: 102\n"
     ]
    },
    {
     "name": "stdout",
     "output_type": "stream",
     "text": [
      "The student's grade is in the F region\n"
     ]
    }
   ],
   "source": [
    "# Attempt 5\n",
    "\n",
    "# Define score as the input function\n",
    "# Change score to integer\n",
    "\n",
    "score = int(input(\"Enter the student's score here:\"))\n",
    "\n",
    "# Define if-else statements\n",
    "# I will try to use a variable instead\n",
    "# Switching to elif statement\n",
    "# Change str\n",
    "\n",
    "if (70<score<100):\n",
    "    x = 'A'\n",
    "elif (50<score<69):\n",
    "    x = 'B'\n",
    "elif (35<score<49):\n",
    "    x = 'C'\n",
    "else: x = 'F'\n",
    "\n",
    "print(f\"The student's grade is in the {x.upper()} region\")"
   ]
  },
  {
   "cell_type": "code",
   "execution_count": null,
   "id": "720454b0-3171-4c73-b538-1ea7e617a80b",
   "metadata": {},
   "outputs": [],
   "source": [
    "# Attempt 6\n",
    "\n",
    "# Define score as the input function\n",
    "# Change score to integer\n",
    "\n",
    "score = int(input(\"Enter the student's score here:\"))\n",
    "\n",
    "# Define if-else statements\n",
    "# I will try to use a variable instead\n",
    "# Switching to elif statement\n",
    "# Change str\n",
    "\n",
    "# change < to <=\n",
    "if (70<score<=100):\n",
    "    x = 'A'\n",
    "elif (50<score<=69):\n",
    "    x = 'B'\n",
    "elif (35<score<=49):\n",
    "    x = 'C'\n",
    "\n",
    "# I will now attempt to reject any input more than 100 and less than 0\n",
    "elif (0<=score<=34): \n",
    "    x = 'F'\n",
    "else:\n",
    "    x = 'Invalid input. Please enter a score from 0 to 100'\n",
    "    \n",
    "print(f\"The student's grade is: {x.upper()}\")\n",
    "\n",
    "\n",
    "# How can I make different statements for a valid VS an invalid input? \n",
    "# Or is there a way to highlight the resulting text in red in the event of an invalid input?"
   ]
  }
 ],
 "metadata": {
  "kernelspec": {
   "display_name": "Python 3 (ipykernel)",
   "language": "python",
   "name": "python3"
  },
  "language_info": {
   "codemirror_mode": {
    "name": "ipython",
    "version": 3
   },
   "file_extension": ".py",
   "mimetype": "text/x-python",
   "name": "python",
   "nbconvert_exporter": "python",
   "pygments_lexer": "ipython3",
   "version": "3.11.5"
  },
  "toc": {
   "base_numbering": 1,
   "nav_menu": {},
   "number_sections": true,
   "sideBar": true,
   "skip_h1_title": false,
   "title_cell": "Table of Contents",
   "title_sidebar": "Contents",
   "toc_cell": false,
   "toc_position": {},
   "toc_section_display": true,
   "toc_window_display": false
  },
  "vscode": {
   "interpreter": {
    "hash": "31f2aee4e71d21fbe5cf8b01ff0e069b9275f58929596ceb00d14d90e3e16cd6"
   }
  }
 },
 "nbformat": 4,
 "nbformat_minor": 5
}
